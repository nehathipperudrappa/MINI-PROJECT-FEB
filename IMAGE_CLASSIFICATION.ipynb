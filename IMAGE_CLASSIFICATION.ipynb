{
  "nbformat": 4,
  "nbformat_minor": 0,
  "metadata": {
    "colab": {
      "name": "IMAGE CLASSIFICATION.ipynb",
      "provenance": [],
      "collapsed_sections": [],
      "authorship_tag": "ABX9TyP4WZaHhh8UQkxd3zabpF+p",
      "include_colab_link": true
    },
    "kernelspec": {
      "name": "python3",
      "display_name": "Python 3"
    },
    "language_info": {
      "name": "python"
    }
  },
  "cells": [
    {
      "cell_type": "markdown",
      "metadata": {
        "id": "view-in-github",
        "colab_type": "text"
      },
      "source": [
        "<a href=\"https://colab.research.google.com/github/nehathipperudrappa/MINI-PROJECT-FEB/blob/main/IMAGE_CLASSIFICATION.ipynb\" target=\"_parent\"><img src=\"https://colab.research.google.com/assets/colab-badge.svg\" alt=\"Open In Colab\"/></a>"
      ]
    },
    {
      "cell_type": "code",
      "metadata": {
        "colab": {
          "base_uri": "https://localhost:8080/"
        },
        "id": "_fpAJaFM3BVl",
        "outputId": "41d6cb00-d8b1-4812-d72b-00999b66ec11"
      },
      "source": [
        "!pip install bing-image-downloader\n",
        "\n"
      ],
      "execution_count": null,
      "outputs": [
        {
          "output_type": "stream",
          "text": [
            "Collecting bing-image-downloader\n",
            "  Downloading https://files.pythonhosted.org/packages/0d/bf/537a61030b84ae4cd5022d5c7b014fd9bc3ce7c02358919153a6658a61d3/bing_image_downloader-1.0.4-py3-none-any.whl\n",
            "Installing collected packages: bing-image-downloader\n",
            "Successfully installed bing-image-downloader-1.0.4\n"
          ],
          "name": "stdout"
        }
      ]
    },
    {
      "cell_type": "code",
      "metadata": {
        "id": "zkRsZKpN3EKF"
      },
      "source": [
        "!mkdir images"
      ],
      "execution_count": null,
      "outputs": []
    },
    {
      "cell_type": "code",
      "metadata": {
        "colab": {
          "base_uri": "https://localhost:8080/"
        },
        "id": "M3WsN1-b3H4x",
        "outputId": "d5959637-da86-4c16-95d3-38f18cfc0da4"
      },
      "source": [
        "from bing_image_downloader import downloader\n",
        "downloader.download(\"rose\",limit=30,output_dir='images',\n",
        "                    adult_filter_off=True)"
      ],
      "execution_count": null,
      "outputs": [
        {
          "output_type": "stream",
          "text": [
            "\n",
            "\n",
            "[!!]Indexing page: 1\n",
            "\n",
            "[%] Indexed 12 Images on Page 1.\n",
            "\n",
            "===============================================\n",
            "\n",
            "[%] Downloading Image #1 from https://www.parfumflowercompany.com/wp-content/uploads/2015/10/Yves-Piaget-Premium-Scented-Garden-Rose-from-the-Meilland-Jardin-Parfum-collection-022.png\n",
            "[%] File Downloaded !\n",
            "\n",
            "[%] Downloading Image #2 from http://www.rosesandrings.com/wp-content/uploads/2018/01/Deep-red-and-pale-blue-wedding-cake-with-baroque-gold-trim.jpg\n",
            "[%] File Downloaded !\n",
            "\n",
            "[%] Downloading Image #3 from https://3dprint.com/wp-content/uploads/2014/12/piranha-plant.jpg\n",
            "[%] File Downloaded !\n",
            "\n",
            "[%] Downloading Image #4 from https://www.hdwallpapers.in/download/super_saiyan_rose_black_goku_dragon_ball_super_4k-540x960.jpg\n",
            "[%] File Downloaded !\n",
            "\n",
            "[%] Downloading Image #5 from https://weneedfun.com/wp-content/uploads/2016/08/Cake-Boss-Wedding-Cakes-4-577x1024.jpg\n",
            "[%] File Downloaded !\n",
            "\n",
            "[%] Downloading Image #6 from https://www.parfumflowercompany.com/wp-content/uploads/2015/10/Pink-Yves-Piaget-Premium-Scented-Garden-Rose-from-the-Meilland-Jardin-Parfum-collection-012.png\n",
            "[%] File Downloaded !\n",
            "\n",
            "[%] Downloading Image #7 from https://flirtyfleurs.com/wp-content/uploads/2017/05/Fresh-Affairs-Walter-Walters.jpg\n",
            "[!] Issue getting: https://flirtyfleurs.com/wp-content/uploads/2017/05/Fresh-Affairs-Walter-Walters.jpg\n",
            "[!] Error:: <urlopen error [Errno -5] No address associated with hostname>\n",
            "[%] Downloading Image #7 from https://www.gratistodo.com/wp-content/uploads/2017/03/rosa-la-bella-y-la-bestia-fondo.jpg\n",
            "[%] File Downloaded !\n",
            "\n",
            "[%] Downloading Image #8 from https://www.cowboyway.com/images/MuddyCowgirls08.jpg\n",
            "[%] File Downloaded !\n",
            "\n",
            "[%] Downloading Image #9 from http://blog.stylishwedd.com/wp-content/uploads/2017/06/Pink-and-Gold-Brushstroke-Macaron-Drip-Cake.jpg\n",
            "[%] File Downloaded !\n",
            "\n",
            "[%] Downloading Image #10 from https://www.iclarified.com/images/news/51516/243486/243486.jpg\n",
            "[%] File Downloaded !\n",
            "\n",
            "[%] Downloading Image #11 from https://weneedfun.com/wp-content/uploads/2017/01/Graffiti-Love-Wallpapers-16.jpg\n",
            "[%] File Downloaded !\n",
            "\n",
            "\n",
            "\n",
            "[!!]Indexing page: 2\n",
            "\n",
            "[%] Indexed 12 Images on Page 2.\n",
            "\n",
            "===============================================\n",
            "\n",
            "[%] Downloading Image #12 from https://www.parfumflowercompany.com/wp-content/uploads/2015/10/Yves-Piaget-Premium-Scented-Garden-Rose-from-the-Meilland-Jardin-Parfum-collection-022.png\n",
            "[%] File Downloaded !\n",
            "\n",
            "[%] Downloading Image #13 from http://www.rosesandrings.com/wp-content/uploads/2018/01/Deep-red-and-pale-blue-wedding-cake-with-baroque-gold-trim.jpg\n",
            "[%] File Downloaded !\n",
            "\n",
            "[%] Downloading Image #14 from https://3dprint.com/wp-content/uploads/2014/12/piranha-plant.jpg\n",
            "[%] File Downloaded !\n",
            "\n",
            "[%] Downloading Image #15 from https://www.hdwallpapers.in/download/super_saiyan_rose_black_goku_dragon_ball_super_4k-540x960.jpg\n",
            "[%] File Downloaded !\n",
            "\n",
            "[%] Downloading Image #16 from https://weneedfun.com/wp-content/uploads/2016/08/Cake-Boss-Wedding-Cakes-4-577x1024.jpg\n",
            "[%] File Downloaded !\n",
            "\n",
            "[%] Downloading Image #17 from https://www.parfumflowercompany.com/wp-content/uploads/2015/10/Pink-Yves-Piaget-Premium-Scented-Garden-Rose-from-the-Meilland-Jardin-Parfum-collection-012.png\n",
            "[%] File Downloaded !\n",
            "\n",
            "[%] Downloading Image #18 from https://flirtyfleurs.com/wp-content/uploads/2017/05/Fresh-Affairs-Walter-Walters.jpg\n",
            "[%] File Downloaded !\n",
            "\n",
            "[%] Downloading Image #19 from https://www.gratistodo.com/wp-content/uploads/2017/03/rosa-la-bella-y-la-bestia-fondo.jpg\n",
            "[%] File Downloaded !\n",
            "\n",
            "[%] Downloading Image #20 from https://www.cowboyway.com/images/MuddyCowgirls08.jpg\n",
            "[%] File Downloaded !\n",
            "\n",
            "[%] Downloading Image #21 from http://blog.stylishwedd.com/wp-content/uploads/2017/06/Pink-and-Gold-Brushstroke-Macaron-Drip-Cake.jpg\n",
            "[%] File Downloaded !\n",
            "\n",
            "[%] Downloading Image #22 from https://www.iclarified.com/images/news/51516/243486/243486.jpg\n",
            "[%] File Downloaded !\n",
            "\n",
            "[%] Downloading Image #23 from https://weneedfun.com/wp-content/uploads/2017/01/Graffiti-Love-Wallpapers-16.jpg\n",
            "[%] File Downloaded !\n",
            "\n",
            "\n",
            "\n",
            "[!!]Indexing page: 3\n",
            "\n",
            "[%] Indexed 11 Images on Page 3.\n",
            "\n",
            "===============================================\n",
            "\n",
            "[%] Downloading Image #24 from https://www.hdwallpapers.in/download/super_saiyan_rose_black_goku_dragon_ball_super_4k-540x960.jpg\n",
            "[%] File Downloaded !\n",
            "\n",
            "[%] Downloading Image #25 from https://weneedfun.com/wp-content/uploads/2017/01/Graffiti-Love-Wallpapers-16.jpg\n",
            "[%] File Downloaded !\n",
            "\n",
            "[%] Downloading Image #26 from https://www.cowboyway.com/images/MuddyCowgirls08.jpg\n",
            "[%] File Downloaded !\n",
            "\n",
            "[%] Downloading Image #27 from https://www.parfumflowercompany.com/wp-content/uploads/2015/10/Pink-Yves-Piaget-Premium-Scented-Garden-Rose-from-the-Meilland-Jardin-Parfum-collection-012.png\n",
            "[%] File Downloaded !\n",
            "\n",
            "[%] Downloading Image #28 from https://flirtyfleurs.com/wp-content/uploads/2017/05/Fresh-Affairs-Walter-Walters.jpg\n",
            "[%] File Downloaded !\n",
            "\n",
            "[%] Downloading Image #29 from https://weneedfun.com/wp-content/uploads/2016/08/Cake-Boss-Wedding-Cakes-4-577x1024.jpg\n",
            "[%] File Downloaded !\n",
            "\n",
            "[%] Downloading Image #30 from http://blog.stylishwedd.com/wp-content/uploads/2017/06/Pink-and-Gold-Brushstroke-Macaron-Drip-Cake.jpg\n",
            "[%] File Downloaded !\n",
            "\n",
            "\n",
            "\n",
            "[%] Done. Downloaded 30 images.\n",
            "\n",
            "===============================================\n",
            "\n"
          ],
          "name": "stdout"
        }
      ]
    },
    {
      "cell_type": "code",
      "metadata": {
        "colab": {
          "base_uri": "https://localhost:8080/"
        },
        "id": "jQ1Y05Cs3SqO",
        "outputId": "251507b6-7c94-45a5-ba7f-868eb5f8d315"
      },
      "source": [
        "from bing_image_downloader import downloader\n",
        "downloader.download(\"bicycle\",limit=30,output_dir='images',\n",
        "                    adult_filter_off=True)"
      ],
      "execution_count": null,
      "outputs": [
        {
          "output_type": "stream",
          "text": [
            "\n",
            "\n",
            "[!!]Indexing page: 1\n",
            "\n",
            "[%] Indexed 13 Images on Page 1.\n",
            "\n",
            "===============================================\n",
            "\n",
            "[%] Downloading Image #1 from https://www.dailyweekends.com/wp-content/uploads/2015/04/hot-girls-with-bicycles-10.jpg\n",
            "[%] File Downloaded !\n",
            "\n",
            "[%] Downloading Image #2 from https://geekologie.com/2010/02/19/zelda-magic-3.jpg\n",
            "[%] File Downloaded !\n",
            "\n",
            "[%] Downloading Image #3 from https://4.bp.blogspot.com/-R_jmRo_mleY/ULSWlJe2UrI/AAAAAAACCKM/0UZ7odYrPHs/s1600/Vintage+Photos+of+Girls+in+Mini+Skirts+on+Bikes+(24).jpg\n",
            "[%] File Downloaded !\n",
            "\n",
            "[%] Downloading Image #4 from https://cdn.diys.com/wp-content/uploads/2017/01/Family-Pallet-Wart-Art.jpg\n",
            "[%] File Downloaded !\n",
            "\n",
            "[%] Downloading Image #5 from http://i.ytimg.com/vi/ty9QSiVC2g0/maxresdefault.jpg\n",
            "[%] File Downloaded !\n",
            "\n",
            "[%] Downloading Image #6 from https://www.himisspuff.com/wp-content/uploads/2016/08/centerpieces-contained-in-a-glass-terrarium.jpg\n",
            "[%] File Downloaded !\n",
            "\n",
            "[%] Downloading Image #7 from http://www.thegtaplace.com/images/sanandreas/screenshots/pc/sf_bicycle_3.jpg\n",
            "[%] File Downloaded !\n",
            "\n",
            "[%] Downloading Image #8 from https://hative.com/wp-content/uploads/2014/08/diy-chandelier-ideas/11-butterfly-chandelier.jpg\n",
            "[%] File Downloaded !\n",
            "\n",
            "[%] Downloading Image #9 from http://veronastorytime.com/wp-content/uploads/2015/10/IMG_1459-225x300.jpg\n",
            "[%] File Downloaded !\n",
            "\n",
            "[%] Downloading Image #10 from https://ggirls.cc/wp-content/uploads/2019/06/927-5.gif\n",
            "[%] File Downloaded !\n",
            "\n",
            "[%] Downloading Image #11 from https://www.bing.com/th/id/OGC.858af906483d0c09200041c117ae3431?pid=1.7&amp;rurl=https%3a%2f%2fggirls.cc%2fwp-content%2fuploads%2f2019%2f06%2f927-5.gif&amp;ehk=MhLPNZa3ppqoqgN90P%2bDWbGAFX%2fWNhdqdhECZVC4ts8%3d\n",
            "[!] Issue getting: https://www.bing.com/th/id/OGC.858af906483d0c09200041c117ae3431?pid=1.7&amp;rurl=https%3a%2f%2fggirls.cc%2fwp-content%2fuploads%2f2019%2f06%2f927-5.gif&amp;ehk=MhLPNZa3ppqoqgN90P%2bDWbGAFX%2fWNhdqdhECZVC4ts8%3d\n",
            "[!] Error:: HTTP Error 404: Not Found\n",
            "[%] Downloading Image #11 from https://www.isthemessage.net/wp-content/uploads/2019/12/Software-update-for-2nd-generation-AirPods-and-AirPods-Pro-released.jpg\n",
            "[%] File Downloaded !\n",
            "\n",
            "[%] Downloading Image #12 from http://designplusmagazine.com/wp-content/uploads/2016/04/illustrationsmapsenvelopes8-900x1332.jpg\n",
            "[%] File Downloaded !\n",
            "\n",
            "\n",
            "\n",
            "[!!]Indexing page: 2\n",
            "\n",
            "[%] Indexed 13 Images on Page 2.\n",
            "\n",
            "===============================================\n",
            "\n",
            "[%] Downloading Image #13 from https://www.dailyweekends.com/wp-content/uploads/2015/04/hot-girls-with-bicycles-10.jpg\n",
            "[%] File Downloaded !\n",
            "\n",
            "[%] Downloading Image #14 from https://geekologie.com/2010/02/19/zelda-magic-3.jpg\n",
            "[%] File Downloaded !\n",
            "\n",
            "[%] Downloading Image #15 from https://4.bp.blogspot.com/-R_jmRo_mleY/ULSWlJe2UrI/AAAAAAACCKM/0UZ7odYrPHs/s1600/Vintage+Photos+of+Girls+in+Mini+Skirts+on+Bikes+(24).jpg\n",
            "[%] File Downloaded !\n",
            "\n",
            "[%] Downloading Image #16 from https://cdn.diys.com/wp-content/uploads/2017/01/Family-Pallet-Wart-Art.jpg\n",
            "[%] File Downloaded !\n",
            "\n",
            "[%] Downloading Image #17 from http://i.ytimg.com/vi/ty9QSiVC2g0/maxresdefault.jpg\n",
            "[%] File Downloaded !\n",
            "\n",
            "[%] Downloading Image #18 from https://www.himisspuff.com/wp-content/uploads/2016/08/centerpieces-contained-in-a-glass-terrarium.jpg\n",
            "[%] File Downloaded !\n",
            "\n",
            "[%] Downloading Image #19 from http://www.thegtaplace.com/images/sanandreas/screenshots/pc/sf_bicycle_3.jpg\n",
            "[%] File Downloaded !\n",
            "\n",
            "[%] Downloading Image #20 from https://hative.com/wp-content/uploads/2014/08/diy-chandelier-ideas/11-butterfly-chandelier.jpg\n",
            "[%] File Downloaded !\n",
            "\n",
            "[%] Downloading Image #21 from http://veronastorytime.com/wp-content/uploads/2015/10/IMG_1459-225x300.jpg\n",
            "[%] File Downloaded !\n",
            "\n",
            "[%] Downloading Image #22 from https://ggirls.cc/wp-content/uploads/2019/06/927-5.gif\n",
            "[%] File Downloaded !\n",
            "\n",
            "[%] Downloading Image #23 from https://www.bing.com/th/id/OGC.858af906483d0c09200041c117ae3431?pid=1.7&amp;rurl=https%3a%2f%2fggirls.cc%2fwp-content%2fuploads%2f2019%2f06%2f927-5.gif&amp;ehk=MhLPNZa3ppqoqgN90P%2bDWbGAFX%2fWNhdqdhECZVC4ts8%3d\n",
            "[!] Issue getting: https://www.bing.com/th/id/OGC.858af906483d0c09200041c117ae3431?pid=1.7&amp;rurl=https%3a%2f%2fggirls.cc%2fwp-content%2fuploads%2f2019%2f06%2f927-5.gif&amp;ehk=MhLPNZa3ppqoqgN90P%2bDWbGAFX%2fWNhdqdhECZVC4ts8%3d\n",
            "[!] Error:: HTTP Error 404: Not Found\n",
            "[%] Downloading Image #23 from https://www.isthemessage.net/wp-content/uploads/2019/12/Software-update-for-2nd-generation-AirPods-and-AirPods-Pro-released.jpg\n",
            "[%] File Downloaded !\n",
            "\n",
            "[%] Downloading Image #24 from http://designplusmagazine.com/wp-content/uploads/2016/04/illustrationsmapsenvelopes8-900x1332.jpg\n",
            "[%] File Downloaded !\n",
            "\n",
            "\n",
            "\n",
            "[!!]Indexing page: 3\n",
            "\n",
            "[%] Indexed 12 Images on Page 3.\n",
            "\n",
            "===============================================\n",
            "\n",
            "[%] Downloading Image #25 from https://4.bp.blogspot.com/-R_jmRo_mleY/ULSWlJe2UrI/AAAAAAACCKM/0UZ7odYrPHs/s1600/Vintage+Photos+of+Girls+in+Mini+Skirts+on+Bikes+(24).jpg\n",
            "[%] File Downloaded !\n",
            "\n",
            "[%] Downloading Image #26 from https://geekologie.com/2010/02/19/zelda-magic-3.jpg\n",
            "[%] File Downloaded !\n",
            "\n",
            "[%] Downloading Image #27 from http://i.ytimg.com/vi/ty9QSiVC2g0/maxresdefault.jpg\n",
            "[%] File Downloaded !\n",
            "\n",
            "[%] Downloading Image #28 from https://www.isthemessage.net/wp-content/uploads/2019/12/Software-update-for-2nd-generation-AirPods-and-AirPods-Pro-released.jpg\n",
            "[%] File Downloaded !\n",
            "\n",
            "[%] Downloading Image #29 from http://www.thegtaplace.com/images/sanandreas/screenshots/pc/sf_bicycle_3.jpg\n",
            "[%] File Downloaded !\n",
            "\n",
            "[%] Downloading Image #30 from https://cdn.diys.com/wp-content/uploads/2017/01/Family-Pallet-Wart-Art.jpg\n",
            "[%] File Downloaded !\n",
            "\n",
            "\n",
            "\n",
            "[%] Done. Downloaded 30 images.\n",
            "\n",
            "===============================================\n",
            "\n"
          ],
          "name": "stdout"
        }
      ]
    },
    {
      "cell_type": "code",
      "metadata": {
        "colab": {
          "base_uri": "https://localhost:8080/"
        },
        "id": "Z_taVlsv38ok",
        "outputId": "a715ed92-89f3-4086-fd71-fab37bdd6b9c"
      },
      "source": [
        "from bing_image_downloader import downloader\n",
        "downloader.download(\"rugby ball leather\",limit=30,output_dir='images',\n",
        "                    adult_filter_off=True)"
      ],
      "execution_count": null,
      "outputs": [
        {
          "output_type": "stream",
          "text": [
            "\n",
            "\n",
            "[!!]Indexing page: 1\n",
            "\n",
            "[%] Indexed 11 Images on Page 1.\n",
            "\n",
            "===============================================\n",
            "\n",
            "[%] Downloading Image #1 from https://www.john-woodbridge.com/1032-large_default/1920s-rugby-ball.jpg\n",
            "[%] File Downloaded !\n",
            "\n",
            "[%] Downloading Image #2 from https://cdn.shopify.com/s/files/1/0788/5979/products/mvp-leather-balls-heritage-leather-t-soccer-ball-2_1024x1024.jpg?v=1554719760\n",
            "[%] File Downloaded !\n",
            "\n",
            "[%] Downloading Image #3 from https://www.john-woodbridge.com/1020-tm_large_default/1950s-football.jpg\n",
            "[%] File Downloaded !\n",
            "\n",
            "[%] Downloading Image #4 from https://www.academyballs.com/s/cc_images/teaserbox_1818127.jpg?t=1479054313\n",
            "[%] File Downloaded !\n",
            "\n",
            "[%] Downloading Image #5 from http://s3-ap-southeast-2.amazonaws.com/resources.farm1.mycms.me/goodbuddy-com-au/Resources/ProductImages/917_lo.jpg\n",
            "[%] File Downloaded !\n",
            "\n",
            "[%] Downloading Image #6 from https://cdn.shopify.com/s/files/1/0020/1025/1324/products/32p_black_1024x.png?v=1534865418\n",
            "[%] File Downloaded !\n",
            "\n",
            "[%] Downloading Image #7 from http://atlas-content-cdn.pixelsquid.com/stock-images/football-ball-QJGKVx9-600.jpg\n",
            "[%] File Downloaded !\n",
            "\n",
            "[%] Downloading Image #8 from http://www.pgoldsmithsons.com/content/images/thumbs/0000167_vintage-soccer-ball-wc-1958-tan-brown_600.jpeg\n",
            "[%] File Downloaded !\n",
            "\n",
            "[%] Downloading Image #9 from https://www.rugbyfactoryshop.co.uk/media/catalog/product/cache/13/image/9df78eab33525d08d6e5fb8d27136e95/g/i/gilbert-sidestep-revolution-black-red-rugby-boot_23.jpg\n",
            "[%] File Downloaded !\n",
            "\n",
            "[%] Downloading Image #10 from http://sportsballshop.co.uk/acatalog/SlazengerMatch1.jpg\n",
            "[%] File Downloaded !\n",
            "\n",
            "[%] Downloading Image #11 from http://www.prodirectrugby.com/productimages/V3_1_Gallery_1/62289.jpg\n",
            "[!] Issue getting: http://www.prodirectrugby.com/productimages/V3_1_Gallery_1/62289.jpg\n",
            "[!] Error:: HTTP Error 403: Forbidden\n",
            "\n",
            "\n",
            "[!!]Indexing page: 2\n",
            "\n",
            "[%] Indexed 11 Images on Page 2.\n",
            "\n",
            "===============================================\n",
            "\n",
            "[%] Downloading Image #11 from https://www.john-woodbridge.com/1032-large_default/1920s-rugby-ball.jpg\n",
            "[%] File Downloaded !\n",
            "\n",
            "[%] Downloading Image #12 from https://cdn.shopify.com/s/files/1/0788/5979/products/mvp-leather-balls-heritage-leather-t-soccer-ball-2_1024x1024.jpg?v=1554719760\n",
            "[%] File Downloaded !\n",
            "\n",
            "[%] Downloading Image #13 from https://www.john-woodbridge.com/1020-tm_large_default/1950s-football.jpg\n",
            "[%] File Downloaded !\n",
            "\n",
            "[%] Downloading Image #14 from https://www.academyballs.com/s/cc_images/teaserbox_1818127.jpg?t=1479054313\n",
            "[%] File Downloaded !\n",
            "\n",
            "[%] Downloading Image #15 from http://s3-ap-southeast-2.amazonaws.com/resources.farm1.mycms.me/goodbuddy-com-au/Resources/ProductImages/917_lo.jpg\n",
            "[%] File Downloaded !\n",
            "\n",
            "[%] Downloading Image #16 from https://cdn.shopify.com/s/files/1/0020/1025/1324/products/32p_black_1024x.png?v=1534865418\n",
            "[%] File Downloaded !\n",
            "\n",
            "[%] Downloading Image #17 from http://atlas-content-cdn.pixelsquid.com/stock-images/football-ball-QJGKVx9-600.jpg\n",
            "[%] File Downloaded !\n",
            "\n",
            "[%] Downloading Image #18 from http://www.pgoldsmithsons.com/content/images/thumbs/0000167_vintage-soccer-ball-wc-1958-tan-brown_600.jpeg\n",
            "[%] File Downloaded !\n",
            "\n",
            "[%] Downloading Image #19 from https://www.rugbyfactoryshop.co.uk/media/catalog/product/cache/13/image/9df78eab33525d08d6e5fb8d27136e95/g/i/gilbert-sidestep-revolution-black-red-rugby-boot_23.jpg\n",
            "[%] File Downloaded !\n",
            "\n",
            "[%] Downloading Image #20 from http://sportsballshop.co.uk/acatalog/SlazengerMatch1.jpg\n",
            "[%] File Downloaded !\n",
            "\n",
            "[%] Downloading Image #21 from http://www.prodirectrugby.com/productimages/V3_1_Gallery_1/62289.jpg\n",
            "[!] Issue getting: http://www.prodirectrugby.com/productimages/V3_1_Gallery_1/62289.jpg\n",
            "[!] Error:: HTTP Error 403: Forbidden\n",
            "\n",
            "\n",
            "[!!]Indexing page: 3\n",
            "\n",
            "[%] Indexed 10 Images on Page 3.\n",
            "\n",
            "===============================================\n",
            "\n",
            "[%] Downloading Image #21 from https://cdn.shopify.com/s/files/1/0788/5979/products/mvp-leather-balls-heritage-leather-t-soccer-ball-2_1024x1024.jpg?v=1554719760\n",
            "[%] File Downloaded !\n",
            "\n",
            "[%] Downloading Image #22 from https://www.john-woodbridge.com/1020-tm_large_default/1950s-football.jpg\n",
            "[%] File Downloaded !\n",
            "\n",
            "[%] Downloading Image #23 from https://www.academyballs.com/s/cc_images/teaserbox_1818127.jpg?t=1479054313\n",
            "[%] File Downloaded !\n",
            "\n",
            "[%] Downloading Image #24 from http://s3-ap-southeast-2.amazonaws.com/resources.farm1.mycms.me/goodbuddy-com-au/Resources/ProductImages/917_lo.jpg\n",
            "[%] File Downloaded !\n",
            "\n",
            "[%] Downloading Image #25 from https://cdn.shopify.com/s/files/1/0020/1025/1324/products/32p_black_1024x.png?v=1534865418\n",
            "[%] File Downloaded !\n",
            "\n",
            "[%] Downloading Image #26 from http://atlas-content-cdn.pixelsquid.com/stock-images/football-ball-QJGKVx9-600.jpg\n",
            "[%] File Downloaded !\n",
            "\n",
            "[%] Downloading Image #27 from http://www.pgoldsmithsons.com/content/images/thumbs/0000167_vintage-soccer-ball-wc-1958-tan-brown_600.jpeg\n",
            "[%] File Downloaded !\n",
            "\n",
            "[%] Downloading Image #28 from https://www.rugbyfactoryshop.co.uk/media/catalog/product/cache/13/image/9df78eab33525d08d6e5fb8d27136e95/g/i/gilbert-sidestep-revolution-black-red-rugby-boot_23.jpg\n",
            "[%] File Downloaded !\n",
            "\n",
            "[%] Downloading Image #29 from http://sportsballshop.co.uk/acatalog/SlazengerMatch1.jpg\n",
            "[%] File Downloaded !\n",
            "\n",
            "[%] Downloading Image #30 from http://www.prodirectrugby.com/productimages/V3_1_Gallery_1/62289.jpg\n",
            "[!] Issue getting: http://www.prodirectrugby.com/productimages/V3_1_Gallery_1/62289.jpg\n",
            "[!] Error:: HTTP Error 403: Forbidden\n",
            "\n",
            "\n",
            "[!!]Indexing page: 4\n",
            "\n",
            "[%] Indexed 9 Images on Page 4.\n",
            "\n",
            "===============================================\n",
            "\n",
            "[%] Downloading Image #30 from https://www.john-woodbridge.com/1020-tm_large_default/1950s-football.jpg\n",
            "[%] File Downloaded !\n",
            "\n",
            "\n",
            "\n",
            "[%] Done. Downloaded 30 images.\n",
            "\n",
            "===============================================\n",
            "\n"
          ],
          "name": "stdout"
        }
      ]
    },
    {
      "cell_type": "code",
      "metadata": {
        "id": "Yx9i0qx-4Gwi"
      },
      "source": [
        "import os\n",
        "import matplotlib.pyplot as plt\n",
        "import numpy as np\n",
        "from skimage.io import imread\n",
        "from skimage.transform import resize\n",
        "\n",
        "target = []\n",
        "images = []\n",
        "flat_data = []\n",
        "\n",
        "DATADIR = '/content/images'\n",
        "CATEGORIES = ['rose','bicycle','rugby ball leather']\n",
        " \n",
        "\n",
        "for category in CATEGORIES:\n",
        " class_num = CATEGORIES.index(category)  # Label Encoding the values\n",
        " path = os.path.join(DATADIR,category)   # Create path to use all the images\n",
        " for img in os.listdir(path):\n",
        "   img_array = imread(os.path.join(path,img))\n",
        "   #print(img_array.shape)\n",
        "   #plt.imshow(img_arrray)\n",
        "   img_resized = resize(img_array,(150,150,3))\n",
        "   flat_data.append(img_resized.flatten())\n",
        "   images.append(img_resized)\n",
        "   target.append(class_num)\n",
        "   \n",
        "flat_data = np.array(flat_data)\n",
        "target = np.array(target)\n",
        "images = np.array(images)"
      ],
      "execution_count": null,
      "outputs": []
    },
    {
      "cell_type": "code",
      "metadata": {
        "colab": {
          "base_uri": "https://localhost:8080/"
        },
        "id": "bQTRtH994oVs",
        "outputId": "9c1d2565-51d9-437c-9f9c-8b22d8421376"
      },
      "source": [
        "flat_data[0]"
      ],
      "execution_count": null,
      "outputs": [
        {
          "output_type": "execute_result",
          "data": {
            "text/plain": [
              "array([0.0696732 , 0.02111111, 0.        , ..., 0.27410675, 0.27410675,\n",
              "       0.27410675])"
            ]
          },
          "metadata": {
            "tags": []
          },
          "execution_count": 8
        }
      ]
    },
    {
      "cell_type": "code",
      "metadata": {
        "id": "FJu9F3Vz4rqY"
      },
      "source": [
        "from sklearn.model_selection import train_test_split \n",
        "x_train,x_test,y_train,y_test = train_test_split(flat_data,target,\n",
        "                                                 test_size=0.3,random_state=108)"
      ],
      "execution_count": null,
      "outputs": []
    },
    {
      "cell_type": "code",
      "metadata": {
        "colab": {
          "base_uri": "https://localhost:8080/"
        },
        "id": "FQwk6kUZ4vGh",
        "outputId": "61d6b00c-d787-47d3-a5b7-9aaf301da988"
      },
      "source": [
        "from sklearn.model_selection import GridSearchCV\n",
        "from sklearn import svm\n",
        "param_Grid = [\n",
        "              {'C':[1,10,100,1000],'kernel':['linear']},\n",
        "              {'C':[1,10,100,1000],'gamma':[0.001,0.0001],'kernel':['rbf']}\n",
        "]\n",
        "\n",
        "svc = svm.SVC(probability=True)\n",
        "clf = GridSearchCV(svc,param_Grid)\n",
        "clf.fit(x_train,y_train)\n"
      ],
      "execution_count": null,
      "outputs": [
        {
          "output_type": "execute_result",
          "data": {
            "text/plain": [
              "GridSearchCV(cv=None, error_score=nan,\n",
              "             estimator=SVC(C=1.0, break_ties=False, cache_size=200,\n",
              "                           class_weight=None, coef0=0.0,\n",
              "                           decision_function_shape='ovr', degree=3,\n",
              "                           gamma='scale', kernel='rbf', max_iter=-1,\n",
              "                           probability=True, random_state=None, shrinking=True,\n",
              "                           tol=0.001, verbose=False),\n",
              "             iid='deprecated', n_jobs=None,\n",
              "             param_grid=[{'C': [1, 10, 100, 1000], 'kernel': ['linear']},\n",
              "                         {'C': [1, 10, 100, 1000], 'gamma': [0.001, 0.0001],\n",
              "                          'kernel': ['rbf']}],\n",
              "             pre_dispatch='2*n_jobs', refit=True, return_train_score=False,\n",
              "             scoring=None, verbose=0)"
            ]
          },
          "metadata": {
            "tags": []
          },
          "execution_count": 10
        }
      ]
    },
    {
      "cell_type": "code",
      "metadata": {
        "colab": {
          "base_uri": "https://localhost:8080/"
        },
        "id": "QpgQ6CGO41pL",
        "outputId": "cb67e36b-f4fb-4114-d1ee-7097b3e05724"
      },
      "source": [
        "y_pred = clf.predict(x_test)\n",
        "y_pred"
      ],
      "execution_count": null,
      "outputs": [
        {
          "output_type": "execute_result",
          "data": {
            "text/plain": [
              "array([0, 1, 1, 0, 0, 2, 0, 1, 1, 2, 1, 2, 1, 0, 1, 1, 1, 0, 1, 2, 2, 2,\n",
              "       2, 1, 0, 0, 1])"
            ]
          },
          "metadata": {
            "tags": []
          },
          "execution_count": 11
        }
      ]
    },
    {
      "cell_type": "code",
      "metadata": {
        "colab": {
          "base_uri": "https://localhost:8080/"
        },
        "id": "eigXP2yb5RiV",
        "outputId": "cbf11adb-eda3-4e72-b4b5-fcc6fd9fd46a"
      },
      "source": [
        "y_test"
      ],
      "execution_count": null,
      "outputs": [
        {
          "output_type": "execute_result",
          "data": {
            "text/plain": [
              "array([0, 1, 1, 0, 0, 2, 0, 0, 1, 2, 0, 2, 1, 0, 1, 1, 1, 0, 0, 2, 2, 2,\n",
              "       2, 1, 0, 0, 1])"
            ]
          },
          "metadata": {
            "tags": []
          },
          "execution_count": 12
        }
      ]
    },
    {
      "cell_type": "code",
      "metadata": {
        "id": "DHMvgO605SVE"
      },
      "source": [
        "from sklearn.metrics import accuracy_score,confusion_matrix"
      ],
      "execution_count": null,
      "outputs": []
    },
    {
      "cell_type": "code",
      "metadata": {
        "colab": {
          "base_uri": "https://localhost:8080/"
        },
        "id": "2MbwsHVG5VxJ",
        "outputId": "19689af7-f477-48cf-bf56-39628cc4656b"
      },
      "source": [
        "accuracy_score(y_pred,y_test)"
      ],
      "execution_count": null,
      "outputs": [
        {
          "output_type": "execute_result",
          "data": {
            "text/plain": [
              "0.8888888888888888"
            ]
          },
          "metadata": {
            "tags": []
          },
          "execution_count": 15
        }
      ]
    },
    {
      "cell_type": "code",
      "metadata": {
        "colab": {
          "base_uri": "https://localhost:8080/"
        },
        "id": "Czw047Lw5YX8",
        "outputId": "c50711eb-de68-4ac8-fcbd-4db30ad91d84"
      },
      "source": [
        "confusion_matrix(y_pred,y_test)"
      ],
      "execution_count": null,
      "outputs": [
        {
          "output_type": "execute_result",
          "data": {
            "text/plain": [
              "array([[8, 0, 0],\n",
              "       [3, 9, 0],\n",
              "       [0, 0, 7]])"
            ]
          },
          "metadata": {
            "tags": []
          },
          "execution_count": 16
        }
      ]
    },
    {
      "cell_type": "code",
      "metadata": {
        "colab": {
          "base_uri": "https://localhost:8080/",
          "height": 102
        },
        "id": "Z23w4ama5fDq",
        "outputId": "2e0b37a2-dfef-44c5-ca2a-5a9c82b6a990"
      },
      "source": [
        "from sklearn.metrics import classification_report\n",
        "classification_report(y_pred,y_test)"
      ],
      "execution_count": null,
      "outputs": [
        {
          "output_type": "execute_result",
          "data": {
            "application/vnd.google.colaboratory.intrinsic+json": {
              "type": "string"
            },
            "text/plain": [
              "'              precision    recall  f1-score   support\\n\\n           0       0.73      1.00      0.84         8\\n           1       1.00      0.75      0.86        12\\n           2       1.00      1.00      1.00         7\\n\\n    accuracy                           0.89        27\\n   macro avg       0.91      0.92      0.90        27\\nweighted avg       0.92      0.89      0.89        27\\n'"
            ]
          },
          "metadata": {
            "tags": []
          },
          "execution_count": 17
        }
      ]
    },
    {
      "cell_type": "code",
      "metadata": {
        "id": "xsP4ZBh35izP"
      },
      "source": [
        "import pickle\n",
        "pickle.dump(clf,open('img_model.p','wb'))"
      ],
      "execution_count": null,
      "outputs": []
    },
    {
      "cell_type": "code",
      "metadata": {
        "id": "bWeaLY-15mRb"
      },
      "source": [
        "model = pickle.load(open('img_model.p','rb'))"
      ],
      "execution_count": null,
      "outputs": []
    },
    {
      "cell_type": "code",
      "metadata": {
        "colab": {
          "base_uri": "https://localhost:8080/",
          "height": 319
        },
        "id": "gh5lb5K-5qDj",
        "outputId": "dee652c0-92a5-4cfc-b306-c964c9622c35"
      },
      "source": [
        "flat_data = []\n",
        "url = input('Enter Your URL')\n",
        "img = imread(url)\n",
        "img_resized = resize(img,(150,150,3))\n",
        "flat_data.append(img_resized.flatten())\n",
        "flat_data = np.array(flat_data)\n",
        "print(img.shape)\n",
        "plt.imshow(img_resized)\n",
        "y_out = model.predict(flat_data)\n",
        "y_out = CATEGORIES[y_out[0]]\n",
        "print(f' PREDICTED OUTPUT: {y_out}')"
      ],
      "execution_count": null,
      "outputs": [
        {
          "output_type": "stream",
          "text": [
            "Enter Your URLhttps://pixnio.com/free-images/2017/11/03/2017-11-03-23-21-56.jpg\n",
            "(1200, 1823, 3)\n",
            " PREDICTED OUTPUT: rose\n"
          ],
          "name": "stdout"
        },
        {
          "output_type": "display_data",
          "data": {
            "image/png": "[encoded data removed]",
            "text/plain": [
              "<Figure size 432x288 with 1 Axes>"
            ]
          },
          "metadata": {
            "tags": [],
            "needs_background": "light"
          }
        }
      ]
    },
    {
      "cell_type": "code",
      "metadata": {
        "id": "6M_v7Jjy5yiq"
      },
      "source": [
        ""
      ],
      "execution_count": null,
      "outputs": []
    }
  ]
}